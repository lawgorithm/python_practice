{
  "cells": [
    {
      "cell_type": "markdown",
      "metadata": {
        "id": "view-in-github",
        "colab_type": "text"
      },
      "source": [
        "<a href=\"https://colab.research.google.com/github/lawgorithm/python_practice/blob/main/Python_datalemur_questions.ipynb\" target=\"_parent\"><img src=\"https://colab.research.google.com/assets/colab-badge.svg\" alt=\"Open In Colab\"/></a>"
      ]
    },
    {
      "cell_type": "markdown",
      "source": [
        "https://datalemur.com/questions/python-factorial-formula"
      ],
      "metadata": {
        "id": "LIOBy6QhA_Os"
      }
    },
    {
      "cell_type": "code",
      "source": [
        "def factorial(n):\n",
        "  if n > 1:\n",
        "    return n * factorial(n-1)\n",
        "  elif n <= 1:\n",
        "    return 1"
      ],
      "metadata": {
        "id": "6ax7p5I_jnve"
      },
      "execution_count": 1,
      "outputs": []
    },
    {
      "cell_type": "code",
      "source": [
        "factorial(n=5)"
      ],
      "metadata": {
        "colab": {
          "base_uri": "https://localhost:8080/"
        },
        "id": "vYzhQJuzKkP_",
        "outputId": "8f5bd95a-7a39-4d47-e8af-e9ddd3f07898"
      },
      "execution_count": 2,
      "outputs": [
        {
          "output_type": "execute_result",
          "data": {
            "text/plain": [
              "120"
            ]
          },
          "metadata": {},
          "execution_count": 2
        }
      ]
    },
    {
      "cell_type": "markdown",
      "source": [
        "https://datalemur.com/questions/python-fizz-buzz-sum"
      ],
      "metadata": {
        "id": "_12BMHleKoGm"
      }
    },
    {
      "cell_type": "code",
      "source": [
        "def fizz_buzz_sum(target):\n",
        "  result = 0\n",
        "  for i in range(target):\n",
        "    if (i % 3 == 0) or (i % 5 == 0):\n",
        "      print(i)\n",
        "      result += i\n",
        "  return result"
      ],
      "metadata": {
        "id": "9vjCgeq_KonK"
      },
      "execution_count": null,
      "outputs": []
    },
    {
      "cell_type": "markdown",
      "source": [
        "https://datalemur.com/questions/python-intersection-of-two-lists"
      ],
      "metadata": {
        "id": "w3TfThnfM7wy"
      }
    },
    {
      "cell_type": "code",
      "source": [
        "def intersection(a, b):\n",
        "  result = []\n",
        "  for item in a:\n",
        "    if item in b:\n",
        "      result.append(item)\n",
        "  return result"
      ],
      "metadata": {
        "id": "e5mvjoNFM8MZ"
      },
      "execution_count": null,
      "outputs": []
    },
    {
      "cell_type": "markdown",
      "source": [
        "https://datalemur.com/questions/python-missing-integer"
      ],
      "metadata": {
        "id": "vFcBrPZoOJK6"
      }
    },
    {
      "cell_type": "code",
      "source": [
        "def missing_int(input: list[int])-> int:\n",
        "  for i in range(len(input) + 1):\n",
        "    if i not in input:\n",
        "      return i\n",
        "  return None"
      ],
      "metadata": {
        "id": "vuXRx2b_OId2"
      },
      "execution_count": null,
      "outputs": []
    },
    {
      "cell_type": "markdown",
      "source": [
        "https://datalemur.com/questions/python-contains-duplicate"
      ],
      "metadata": {
        "id": "xEKwv4n_Oqp6"
      }
    },
    {
      "cell_type": "code",
      "source": [
        "def contains_duplicate(input)-> bool:\n",
        "  input.sort()\n",
        "  last = 0\n",
        "  for i, item in enumerate(input):\n",
        "    if i == 0:\n",
        "      last = item\n",
        "    elif item == last:\n",
        "      return True\n",
        "    else:\n",
        "      last = item\n",
        "  return False"
      ],
      "metadata": {
        "id": "W_7xJ2nHOIyM"
      },
      "execution_count": 11,
      "outputs": []
    },
    {
      "cell_type": "code",
      "source": [
        "contains_duplicate([1, 3, 5, 7, 1])"
      ],
      "metadata": {
        "colab": {
          "base_uri": "https://localhost:8080/"
        },
        "id": "tkIK7lSLQcDi",
        "outputId": "7818d440-3794-4693-ac56-e5269a02b64e"
      },
      "execution_count": 13,
      "outputs": [
        {
          "output_type": "execute_result",
          "data": {
            "text/plain": [
              "True"
            ]
          },
          "metadata": {},
          "execution_count": 13
        }
      ]
    },
    {
      "cell_type": "markdown",
      "source": [
        "https://datalemur.com/questions/python-salary-inequity"
      ],
      "metadata": {
        "id": "i5sW5o9sRaLQ"
      }
    },
    {
      "cell_type": "code",
      "source": [
        "pass\n",
        "# TODO"
      ],
      "metadata": {
        "id": "KyNewb5pTPlo"
      },
      "execution_count": null,
      "outputs": []
    },
    {
      "cell_type": "markdown",
      "source": [
        "https://datalemur.com/questions/python-max-profit-trading-stocks"
      ],
      "metadata": {
        "id": "JGGF78nUWneM"
      }
    },
    {
      "cell_type": "code",
      "source": [
        "def max_subarray_sum(prices):\n",
        "  lowest_price = 42\n",
        "  max_profit = 0\n",
        "  for i, price in enumerate(prices):\n",
        "    if i == 0:\n",
        "      lowest_price = price\n",
        "    elif price < lowest_price:\n",
        "      lowest_price = price\n",
        "    else:\n",
        "      profit = price - lowest_price\n",
        "      if profit > max_profit:\n",
        "        max_profit = profit\n",
        "  return max_profit"
      ],
      "metadata": {
        "id": "jKfuX52GTR1q"
      },
      "execution_count": null,
      "outputs": []
    },
    {
      "cell_type": "code",
      "source": [
        "def max_subarray_sum(prices):\n",
        "  min_price = prices[0]\n",
        "  max_profit = 0\n",
        "  for cur_price in prices[1:]:\n",
        "    max_profit = max(max_profit, cur_price - min_price)\n",
        "    min_price = min(min_price, cur_price)\n",
        "\n",
        "  return max_profit"
      ],
      "metadata": {
        "id": "fFiXERZrWtRg"
      },
      "execution_count": null,
      "outputs": []
    },
    {
      "cell_type": "code",
      "source": [
        "def trailing_zeroes(n):\n",
        "  num_fives = 0\n",
        "  num_twos = 0\n",
        "  for i in range(1, n+1):\n",
        "    if i % 5 == 0:\n",
        "      k = i\n",
        "      while k % 5 == 0:\n",
        "        k = k / 5\n",
        "        num_fives += 1\n",
        "    if i % 2 == 0:\n",
        "      k = i\n",
        "      while k % 2 == 0:\n",
        "        k = k / 2\n",
        "        num_twos += 1\n",
        "  num_zeroes = min(num_twos, num_fives)\n",
        "  return num_zeroes"
      ],
      "metadata": {
        "id": "socktQRrbhGd"
      },
      "execution_count": 21,
      "outputs": []
    },
    {
      "cell_type": "code",
      "source": [
        "trailing_zeroes(n=30)"
      ],
      "metadata": {
        "colab": {
          "base_uri": "https://localhost:8080/"
        },
        "id": "g-OALGJabiRc",
        "outputId": "6dd7f401-85ae-4ea4-fab7-95ae1876dc3c"
      },
      "execution_count": 23,
      "outputs": [
        {
          "output_type": "execute_result",
          "data": {
            "text/plain": [
              "7"
            ]
          },
          "metadata": {},
          "execution_count": 23
        }
      ]
    },
    {
      "cell_type": "code",
      "source": [
        "def trailing_zeroes(n):\n",
        "  if n < 5:\n",
        "    return 0\n",
        "  return n // 5"
      ],
      "metadata": {
        "id": "j7qqNORKcQux"
      },
      "execution_count": null,
      "outputs": []
    },
    {
      "cell_type": "markdown",
      "source": [
        "https://datalemur.com/questions/python-maximum-product-three-numbers"
      ],
      "metadata": {
        "id": "ZUmi1DKwfSCj"
      }
    },
    {
      "cell_type": "code",
      "source": [
        "def max_three(input):\n",
        "  n = len(input)\n",
        "  input.sort\n",
        "  candidate1 = input[n-1] * input[n-2] * input[n-3]\n",
        "  candidate2 = input[n-1] * input[0] * input[1]\n",
        "  result = max(candidate1, candidate2)\n",
        "  return result"
      ],
      "metadata": {
        "id": "-vJtsughfTQL"
      },
      "execution_count": null,
      "outputs": []
    },
    {
      "cell_type": "markdown",
      "source": [
        "https://datalemur.com/questions/python-two-sum"
      ],
      "metadata": {
        "id": "d9bEwv95_3Kv"
      }
    },
    {
      "cell_type": "code",
      "source": [
        "def two_sum(input: list[int], target: int) -> list[int]:\n",
        "  for candidate in input:\n",
        "    partner = target - candidate\n",
        "    remaining = input.copy()\n",
        "    remaining.remove(candidate)\n",
        "    if partner in remaining:\n",
        "      idx_1 = input.index(candidate)\n",
        "      idx_2 = input.index(partner)\n",
        "      result = [idx_1, idx_2]\n",
        "      result.sort()\n",
        "      return result\n",
        "  return [-1, -1]"
      ],
      "metadata": {
        "id": "rqw5caP0_3gC"
      },
      "execution_count": 5,
      "outputs": []
    },
    {
      "cell_type": "code",
      "source": [
        "two_sum([1, 4, 6, 10], 10)"
      ],
      "metadata": {
        "colab": {
          "base_uri": "https://localhost:8080/"
        },
        "id": "m9hAFcBn_58R",
        "outputId": "6fe03c87-fe92-4e2c-aa1d-2352240ee93e"
      },
      "execution_count": 6,
      "outputs": [
        {
          "output_type": "execute_result",
          "data": {
            "text/plain": [
              "[1, 2]"
            ]
          },
          "metadata": {},
          "execution_count": 6
        }
      ]
    },
    {
      "cell_type": "markdown",
      "source": [
        "https://datalemur.com/questions/python-largest-prime-factor"
      ],
      "metadata": {
        "id": "Ocjbobl2BUZZ"
      }
    },
    {
      "cell_type": "code",
      "source": [
        "pass"
      ],
      "metadata": {
        "id": "-r0ho236BUvz"
      },
      "execution_count": null,
      "outputs": []
    },
    {
      "cell_type": "markdown",
      "source": [
        "https://datalemur.com/questions/python-smallest-multiple"
      ],
      "metadata": {
        "id": "Jz-0WsMIKsle"
      }
    },
    {
      "cell_type": "code",
      "source": [
        "pass"
      ],
      "metadata": {
        "id": "WE53AIpuDOXp"
      },
      "execution_count": null,
      "outputs": []
    },
    {
      "cell_type": "markdown",
      "source": [
        "https://datalemur.com/questions/python-pearson-correlation-coefficient"
      ],
      "metadata": {
        "id": "kl8yHsubPpLy"
      }
    },
    {
      "cell_type": "code",
      "source": [
        "import math\n",
        "\n",
        "def corr(x, y):\n",
        "  n = len(x)\n",
        "  x_sum = 0\n",
        "  y_sum = 0\n",
        "  for i in range(n):\n",
        "    x_sum += x[i]\n",
        "    y_sum += y[i]\n",
        "  x_bar = x_sum * 1.0 / n\n",
        "  y_bar = y_sum * 1.0 / n\n",
        "  cov_x_y = 0\n",
        "  var_x = 0\n",
        "  var_y = 0\n",
        "  for i in range(n):\n",
        "    var_x += (x[i] - x_bar)**2 * 1.0 / n\n",
        "    var_y += (y[i] - y_bar)**2 * 1.0 / n\n",
        "    cov_x_y += (x[i] - x_bar) * (y[i] - y_bar) / n\n",
        "  corr_x_y = cov_x_y / (var_x**0.5 * var_y**0.5)\n",
        "  return corr_x_y"
      ],
      "metadata": {
        "id": "NnC0T83yPooq"
      },
      "execution_count": null,
      "outputs": []
    },
    {
      "cell_type": "markdown",
      "source": [
        "https://datalemur.com/questions/python-merge-conflicts"
      ],
      "metadata": {
        "id": "1mLp0uJHYEoE"
      }
    },
    {
      "cell_type": "code",
      "source": [
        "def has_merge_conflict(pull_requests)-> bool:\n",
        "  for i in range(len(pull_requests) - 1):\n",
        "    lower_i = pull_requests[i][0]\n",
        "    upper_i = pull_requests[i][1]\n",
        "    for j in range(i + 1, len(pull_requests)):\n",
        "      lower_j = pull_requests[j][0]\n",
        "      upper_j = pull_requests[j][1]\n",
        "      if (lower_j < lower_i) and (lower_i < upper_j):\n",
        "        return True\n",
        "      elif (lower_j < upper_i) and (upper_i < upper_j):\n",
        "        return True\n",
        "  return False"
      ],
      "metadata": {
        "id": "73IOurkQYFCU"
      },
      "execution_count": null,
      "outputs": []
    },
    {
      "cell_type": "markdown",
      "source": [
        "https://datalemur.com/questions/python-largest-contiguous-subarray-sum"
      ],
      "metadata": {
        "id": "PyOvLvWraJUO"
      }
    },
    {
      "cell_type": "code",
      "source": [
        "def max_subarray_sum(input):\n",
        "  n = len(input)\n",
        "  if n == 1:\n",
        "    if input[0] < 0:\n",
        "      return 0\n",
        "    else:\n",
        "      return input[0]\n",
        "  if input[0] < 0:\n",
        "    return max_subarray_sum(input[1:])\n",
        "  if input[n-1] < 0:\n",
        "    return max_subarray_sum(input[:n-1])\n",
        "  if n == 2:\n",
        "    return input[0] + input[1]\n",
        "  else:\n",
        "    return max_subarray_sum([input[0] + input[1]] + input[2:])"
      ],
      "metadata": {
        "id": "YIxsovkvaJmc"
      },
      "execution_count": null,
      "outputs": []
    }
  ],
  "metadata": {
    "colab": {
      "provenance": [],
      "include_colab_link": true
    },
    "kernelspec": {
      "display_name": "Python 3",
      "name": "python3"
    }
  },
  "nbformat": 4,
  "nbformat_minor": 0
}