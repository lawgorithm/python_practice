{
  "cells": [
    {
      "cell_type": "markdown",
      "metadata": {
        "id": "view-in-github",
        "colab_type": "text"
      },
      "source": [
        "<a href=\"https://colab.research.google.com/github/lawgorithm/python_practice/blob/main/Monte_Carlo_for_Monte_Hall_Problem.ipynb\" target=\"_parent\"><img src=\"https://colab.research.google.com/assets/colab-badge.svg\" alt=\"Open In Colab\"/></a>"
      ]
    },
    {
      "cell_type": "code",
      "source": [
        "import random"
      ],
      "metadata": {
        "id": "3uRiCTS8dXj-"
      },
      "execution_count": 1,
      "outputs": []
    },
    {
      "cell_type": "code",
      "source": [
        "# The contestant will select a door, at which point Monty will reveal one of the\n",
        "# doors with a goat. Now, the contestant can either switch doors, or keep their\n",
        "# original choice. The probability of winning the car if the contestant switches\n",
        "# doors is .66, versus .33 if they stay with the original choice.\n",
        "# Convince yourself this is true analytically!\n",
        "\n",
        "def run_game(switch):\n",
        "    \"\"\"\n",
        "    Returns the result of one game, based on a contestant’s\n",
        "    Decision to switch doors or now. Car door is chosen at  random.\n",
        "\n",
        "    Args:\n",
        "      switch (bool): Whether the contestant switches their\n",
        "      door after a goat is revealed.\n",
        "\n",
        "    Returns:\n",
        "        bool: True if the contestant wins the car, False otherwise.\n",
        "    \"\"\"\n",
        "\n",
        "    # Randomly choose the door that has the car\n",
        "    car_door = random.randint(1, 3)\n",
        "\n",
        "    # Define the doors that have the goats\n",
        "    goats = [1,2,3]\n",
        "    goats.remove(car_door)\n",
        "\n",
        "    # Guess a random door\n",
        "    random_guess = random.randint(1, 3)\n",
        "\n",
        "    # Open a door, based on the guess\n",
        "    if random_guess == car_door:\n",
        "      opened_door = random.choice(goats)\n",
        "    else:\n",
        "      opened_door_lst = goats.copy()\n",
        "      opened_door_lst.remove(random_guess)\n",
        "      opened_door = opened_door_lst[0]\n",
        "\n",
        "    # Define the remaining door\n",
        "    remaining_door_lst = [1,2,3]\n",
        "    remaining_door_lst.remove(random_guess)\n",
        "    remaining_door_lst.remove(opened_door)\n",
        "    assert len(remaining_door_lst) == 1\n",
        "    remaining_door = remaining_door_lst[0]\n",
        "\n",
        "    # Switching logic\n",
        "    if not switch:\n",
        "        return (random_guess == car_door)\n",
        "    else:\n",
        "        return (remaining_door == car_door)"
      ],
      "metadata": {
        "id": "ZlLcrrUqdSXs"
      },
      "execution_count": 2,
      "outputs": []
    },
    {
      "cell_type": "code",
      "source": [
        "def simulate_games(switch, n_sims):\n",
        "    \"\"\"\n",
        "    Returns the probability (n wins / total games) of winning the game based on n_sims games and the decision to switch\n",
        "    \"\"\"\n",
        "    wins = 0\n",
        "    for i in range(int(n_sims)):\n",
        "        wins += run_game(switch=switch)\n",
        "    return wins * 1.0 / n_sims"
      ],
      "metadata": {
        "colab": {
          "base_uri": "https://localhost:8080/"
        },
        "id": "DSYfQXxLiB6N",
        "outputId": "968eda80-2608-46e2-b036-b85b5d8a631a"
      },
      "execution_count": 3,
      "outputs": [
        {
          "output_type": "stream",
          "name": "stdout",
          "text": [
            "0.66658\n"
          ]
        }
      ]
    },
    {
      "cell_type": "code",
      "source": [
        "# Alternative implementation using tricky list.remove(). list.remove() returns\n",
        "# None, rather than the shortened list.\n",
        "def run_game_alternative(switch):\n",
        "    \"\"\"\n",
        "    Returns the result of one game, based on a contestant’s\n",
        "    Decision to switch doors or now. Car door is chosen at  random.\n",
        "\n",
        "    Args:\n",
        "      switch (bool): Whether the contestant switches their\n",
        "      door after a goat is revealed.\n",
        "\n",
        "    Returns:\n",
        "        bool: True if the contestant wins the car, False otherwise.\n",
        "    \"\"\"\n",
        "\n",
        "    # Randomly choose the door that has the car\n",
        "    car_door = random.randint(1, 3)\n",
        "\n",
        "    # Define the doors that have the goats\n",
        "    goats = [x for x in [1,2,3] if x != car_door]\n",
        "\n",
        "    # Guess a random door\n",
        "    random_guess = random.randint(1, 3)\n",
        "\n",
        "    # Open a door, based on the guess\n",
        "    if random_guess == car_door:\n",
        "      opened_door = random.choice(goats)\n",
        "    else:\n",
        "      opened_door_lst = [x for x in goats if x != random_guess]\n",
        "      opened_door = opened_door_lst[0]\n",
        "\n",
        "    # Define the remaining door\n",
        "    remaining_door_lst = [\n",
        "        x for x in [1,2,3] if (\n",
        "            x != random_guess and x != opened_door)]\n",
        "    assert len(remaining_door_lst) == 1\n",
        "    remaining_door = remaining_door_lst[0]\n",
        "\n",
        "    # Switching logic\n",
        "    if not switch:\n",
        "        return (random_guess == car_door)\n",
        "    else:\n",
        "        return (remaining_door == car_door)"
      ],
      "metadata": {
        "id": "QEUeLd9wiEu5"
      },
      "execution_count": 4,
      "outputs": []
    },
    {
      "cell_type": "code",
      "source": [
        "def simulate_games_alternative(switch, n_sims):\n",
        "    \"\"\"\n",
        "    Returns the probability (n wins / total games) of winning the game based on n_sims games and the decision to switch\n",
        "    \"\"\"\n",
        "    wins = 0\n",
        "    for i in range(int(n_sims)):\n",
        "        wins += run_game_alternative(switch=switch)\n",
        "    return wins * 1.0 / n_sims"
      ],
      "metadata": {
        "id": "qlG907hVjLf1"
      },
      "execution_count": 5,
      "outputs": []
    },
    {
      "cell_type": "code",
      "source": [
        "# run\n",
        "print(simulate_games(True, 1e6))"
      ],
      "metadata": {
        "colab": {
          "base_uri": "https://localhost:8080/"
        },
        "id": "L9GAbaWZjPO3",
        "outputId": "89dd4151-a10b-43a6-e641-279e3b1d81cc"
      },
      "execution_count": 6,
      "outputs": [
        {
          "output_type": "stream",
          "name": "stdout",
          "text": [
            "0.666421\n"
          ]
        }
      ]
    },
    {
      "cell_type": "code",
      "source": [
        "# run\n",
        "print(simulate_games_alternative(True, 1e6))"
      ],
      "metadata": {
        "colab": {
          "base_uri": "https://localhost:8080/"
        },
        "id": "QhnA_exBjP2L",
        "outputId": "86f9126a-4657-4e3b-8c71-9a5e0e2790d1"
      },
      "execution_count": 7,
      "outputs": [
        {
          "output_type": "stream",
          "name": "stdout",
          "text": [
            "0.666686\n"
          ]
        }
      ]
    }
  ],
  "metadata": {
    "colab": {
      "provenance": [],
      "include_colab_link": true
    },
    "kernelspec": {
      "display_name": "Python 3",
      "name": "python3"
    }
  },
  "nbformat": 4,
  "nbformat_minor": 0
}