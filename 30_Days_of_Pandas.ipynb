{
  "nbformat": 4,
  "nbformat_minor": 0,
  "metadata": {
    "colab": {
      "provenance": [],
      "authorship_tag": "ABX9TyPxoWkKpPIL6h9C3ZweJT1+",
      "include_colab_link": true
    },
    "kernelspec": {
      "name": "python3",
      "display_name": "Python 3"
    },
    "language_info": {
      "name": "python"
    }
  },
  "cells": [
    {
      "cell_type": "markdown",
      "metadata": {
        "id": "view-in-github",
        "colab_type": "text"
      },
      "source": [
        "<a href=\"https://colab.research.google.com/github/lawgorithm/python_practice/blob/main/30_Days_of_Pandas.ipynb\" target=\"_parent\"><img src=\"https://colab.research.google.com/assets/colab-badge.svg\" alt=\"Open In Colab\"/></a>"
      ]
    },
    {
      "cell_type": "code",
      "source": [
        "# @title 595. Big Countries\n",
        "\n",
        "Table: World\n",
        "\n",
        "+-------------+---------+\n",
        "| Column Name | Type    |\n",
        "+-------------+---------+\n",
        "| name        | varchar |\n",
        "| continent   | varchar |\n",
        "| area        | int     |\n",
        "| population  | int     |\n",
        "| gdp         | bigint  |\n",
        "+-------------+---------+\n",
        "name is the primary key (column with unique values) for this table.\n",
        "Each row of this table gives information about the name of a country, the continent to which it belongs, its area, the population, and its GDP value.\n",
        "\n",
        "\n",
        "A country is big if:\n",
        "\n",
        "it has an area of at least three million (i.e., 3000000 km2), or\n",
        "it has a population of at least twenty-five million (i.e., 25000000).\n",
        "Write a solution to find the name, population, and area of the big countries.\n",
        "\n",
        "Return the result table in any order."
      ],
      "metadata": {
        "id": "bwN3Z8Co-ZfS"
      },
      "execution_count": null,
      "outputs": []
    },
    {
      "cell_type": "code",
      "execution_count": null,
      "metadata": {
        "id": "bW7UWbr_fhG8"
      },
      "outputs": [],
      "source": [
        "# @title My answer\n",
        "import pandas as pd\n",
        "import numpy as np\n",
        "\n",
        "def big_countries(world: pd.DataFrame) -> pd.DataFrame:\n",
        "    result = world.copy()\n",
        "    result = result[\n",
        "        np.logical_or(\n",
        "            result['area'] >= 3000000,\n",
        "            result['population'] >= 25000000)\n",
        "            ]\n",
        "    result = result[['name', 'population', 'area']]\n",
        "    return result"
      ]
    },
    {
      "cell_type": "code",
      "source": [
        "# @title Example solution in comments\n",
        "\n",
        "import pandas as pd\n",
        "\n",
        "def big_countries(world: pd.DataFrame) -> pd.DataFrame:\n",
        "    return world[(world.area >= 3000000) | (world.population >= 25000000)][['name','population','area']]"
      ],
      "metadata": {
        "id": "VFwuyaA1jKhl"
      },
      "execution_count": null,
      "outputs": []
    },
    {
      "cell_type": "code",
      "source": [
        "# @title 1757. Recyclable and Low Fat Products\n",
        "\n",
        "Table: Products\n",
        "\n",
        "+-------------+---------+\n",
        "| Column Name | Type    |\n",
        "+-------------+---------+\n",
        "| product_id  | int     |\n",
        "| low_fats    | enum    |\n",
        "| recyclable  | enum    |\n",
        "+-------------+---------+\n",
        "product_id is the primary key (column with unique values) for this table.\n",
        "low_fats is an ENUM (category) of type ('Y', 'N') where 'Y' means this product is low fat and 'N' means it is not.\n",
        "recyclable is an ENUM (category) of types ('Y', 'N') where 'Y' means this product is recyclable and 'N' means it is not.\n",
        "\n",
        "\n",
        "Write a solution to find the ids of products that are both low fat and recyclable.\n",
        "\n",
        "Return the result table in any order.\n",
        "\n",
        "The result format is in the following example.\n",
        "\n",
        "\n",
        "\n",
        "Example 1:\n",
        "\n",
        "Input:\n",
        "Products table:\n",
        "+-------------+----------+------------+\n",
        "| product_id  | low_fats | recyclable |\n",
        "+-------------+----------+------------+\n",
        "| 0           | Y        | N          |\n",
        "| 1           | Y        | Y          |\n",
        "| 2           | N        | Y          |\n",
        "| 3           | Y        | Y          |\n",
        "| 4           | N        | N          |\n",
        "+-------------+----------+------------+\n",
        "Output:\n",
        "+-------------+\n",
        "| product_id  |\n",
        "+-------------+\n",
        "| 1           |\n",
        "| 3           |\n",
        "+-------------+\n",
        "Explanation: Only products 1 and 3 are both low fat and recyclable."
      ],
      "metadata": {
        "id": "UMmcfjfb-Ni9"
      },
      "execution_count": null,
      "outputs": []
    },
    {
      "cell_type": "code",
      "source": [
        "# @title My answer\n",
        "\n",
        "import pandas as pd\n",
        "\n",
        "def find_products(products: pd.DataFrame) s-> pd.DataFrame:\n",
        "    result = products[\n",
        "        (products['low_fats'] == 'Y') &\n",
        "        (products['recyclable'] == 'Y')]\n",
        "    return result[['product_id']]"
      ],
      "metadata": {
        "id": "9BDOW1cc1yKx"
      },
      "execution_count": null,
      "outputs": []
    },
    {
      "cell_type": "code",
      "source": [
        "# @title 183. Customers Who Never Order\n",
        "\n",
        "Table: Customers\n",
        "\n",
        "+-------------+---------+\n",
        "| Column Name | Type    |\n",
        "+-------------+---------+\n",
        "| id          | int     |\n",
        "| name        | varchar |\n",
        "+-------------+---------+\n",
        "id is the primary key (column with unique values) for this table.\n",
        "Each row of this table indicates the ID and name of a customer.\n",
        "\n",
        "\n",
        "Table: Orders\n",
        "\n",
        "+-------------+------+\n",
        "| Column Name | Type |\n",
        "+-------------+------+\n",
        "| id          | int  |\n",
        "| customerId  | int  |\n",
        "+-------------+------+\n",
        "id is the primary key (column with unique values) for this table.\n",
        "customerId is a foreign key (reference columns) of the ID from the Customers table.\n",
        "Each row of this table indicates the ID of an order and the ID of the customer who ordered it.\n",
        "\n",
        "\n",
        "Write a solution to find all customers who never order anything.\n",
        "\n",
        "Return the result table in any order.\n",
        "\n",
        "The result format is in the following example.\n",
        "\n",
        "\n",
        "\n",
        "Example 1:\n",
        "\n",
        "Input:\n",
        "Customers table:\n",
        "+----+-------+\n",
        "| id | name  |\n",
        "+----+-------+\n",
        "| 1  | Joe   |\n",
        "| 2  | Henry |\n",
        "| 3  | Sam   |\n",
        "| 4  | Max   |\n",
        "+----+-------+\n",
        "Orders table:\n",
        "+----+------------+\n",
        "| id | customerId |\n",
        "+----+------------+\n",
        "| 1  | 3          |\n",
        "| 2  | 1          |\n",
        "+----+------------+\n",
        "Output:\n",
        "+-----------+\n",
        "| Customers |\n",
        "+-----------+\n",
        "| Henry     |\n",
        "| Max       |\n",
        "+-----------+"
      ],
      "metadata": {
        "id": "uUt12Qu650KJ"
      },
      "execution_count": null,
      "outputs": []
    },
    {
      "cell_type": "code",
      "source": [
        "# @title My answer\n",
        "\n",
        "import pandas as pd\n",
        "\n",
        "def find_customers(customers: pd.DataFrame, orders: pd.DataFrame) -> pd.DataFrame:\n",
        "    # result = customers.merge(orders, on=['id'], how='left')\n",
        "    result = customers[\n",
        "        ~customers['id'].isin(orders['customerId'])]\n",
        "    result = result.rename(\n",
        "        columns={'name': 'Customers'})\n",
        "    return result[['Customers']]\n",
        ""
      ],
      "metadata": {
        "id": "jSWGoiyv5kct"
      },
      "execution_count": null,
      "outputs": []
    },
    {
      "cell_type": "code",
      "source": [
        "# Alternative solution\n",
        "\n",
        "import pandas as pd\n",
        "\n",
        "def find_customers(customers: pd.DataFrame, orders: pd.DataFrame) -> pd.DataFrame:\n",
        "    # Merge the customers DataFrame with the orders DataFrame using a left join on 'id' and 'customerId'\n",
        "    merged_df = customers.merge(orders, how='left', left_on='id', right_on='customerId')\n",
        "\n",
        "    # Use the 'customerId' column to create a boolean mask for customers who never placed any orders\n",
        "    mask = merged_df['customerId'].isna()\n",
        "\n",
        "    # Filter the rows using the boolean mask\n",
        "    result_df = merged_df[mask]\n",
        "\n",
        "    # Select only the 'name' column from the result DataFrame and rename it as 'Customers'\n",
        "    result_df = result_df[['name']].rename(columns={'name': 'Customers'})\n",
        "\n",
        "    return result_df"
      ],
      "metadata": {
        "id": "fFQVeODR6az4"
      },
      "execution_count": null,
      "outputs": []
    },
    {
      "cell_type": "code",
      "source": [
        "# @title 1148. Article Views I\n",
        "\n",
        "Table: Views\n",
        "\n",
        "+---------------+---------+\n",
        "| Column Name   | Type    |\n",
        "+---------------+---------+\n",
        "| article_id    | int     |\n",
        "| author_id     | int     |\n",
        "| viewer_id     | int     |\n",
        "| view_date     | date    |\n",
        "+---------------+---------+\n",
        "There is no primary key (column with unique values) for this table, the table may have duplicate rows.\n",
        "Each row of this table indicates that some viewer viewed an article (written by some author) on some date.\n",
        "Note that equal author_id and viewer_id indicate the same person.\n",
        "\n",
        "\n",
        "Write a solution to find all the authors that viewed at least one of their own articles.\n",
        "\n",
        "Return the result table sorted by id in ascending order.\n",
        "\n",
        "The result format is in the following example.\n",
        "\n",
        "\n",
        "\n",
        "Example 1:\n",
        "\n",
        "Input:\n",
        "Views table:\n",
        "+------------+-----------+-----------+------------+\n",
        "| article_id | author_id | viewer_id | view_date  |\n",
        "+------------+-----------+-----------+------------+\n",
        "| 1          | 3         | 5         | 2019-08-01 |\n",
        "| 1          | 3         | 6         | 2019-08-02 |\n",
        "| 2          | 7         | 7         | 2019-08-01 |\n",
        "| 2          | 7         | 6         | 2019-08-02 |\n",
        "| 4          | 7         | 1         | 2019-07-22 |\n",
        "| 3          | 4         | 4         | 2019-07-21 |\n",
        "| 3          | 4         | 4         | 2019-07-21 |\n",
        "+------------+-----------+-----------+------------+\n",
        "Output:\n",
        "+------+\n",
        "| id   |\n",
        "+------+\n",
        "| 4    |\n",
        "| 7    |\n",
        "+------+"
      ],
      "metadata": {
        "id": "estkDkw59yq9"
      },
      "execution_count": null,
      "outputs": []
    },
    {
      "cell_type": "code",
      "source": [
        "# @title My answer\n",
        "import pandas as pd\n",
        "\n",
        "def article_views(views: pd.DataFrame) -> pd.DataFrame:\n",
        "    result = views[\n",
        "        views['author_id'] == views['viewer_id']\n",
        "        ]\n",
        "    result = result[['viewer_id']].rename(\n",
        "        columns={'viewer_id': 'id'}).sort_values(\n",
        "            by=['id'], ascending=True).drop_duplicates()\n",
        "    return result"
      ],
      "metadata": {
        "id": "qpXeMZO19ydr"
      },
      "execution_count": null,
      "outputs": []
    }
  ]
}