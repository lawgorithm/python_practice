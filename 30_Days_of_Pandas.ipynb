{
  "nbformat": 4,
  "nbformat_minor": 0,
  "metadata": {
    "colab": {
      "provenance": [],
      "authorship_tag": "ABX9TyMiWfXUcy/xzgMOu2rOrgPI",
      "include_colab_link": true
    },
    "kernelspec": {
      "name": "python3",
      "display_name": "Python 3"
    },
    "language_info": {
      "name": "python"
    }
  },
  "cells": [
    {
      "cell_type": "markdown",
      "metadata": {
        "id": "view-in-github",
        "colab_type": "text"
      },
      "source": [
        "<a href=\"https://colab.research.google.com/github/lawgorithm/python_practice/blob/main/30_Days_of_Pandas.ipynb\" target=\"_parent\"><img src=\"https://colab.research.google.com/assets/colab-badge.svg\" alt=\"Open In Colab\"/></a>"
      ]
    },
    {
      "cell_type": "code",
      "source": [
        "# @title 595. Big Countries\n",
        "\n",
        "Table: World\n",
        "\n",
        "+-------------+---------+\n",
        "| Column Name | Type    |\n",
        "+-------------+---------+\n",
        "| name        | varchar |\n",
        "| continent   | varchar |\n",
        "| area        | int     |\n",
        "| population  | int     |\n",
        "| gdp         | bigint  |\n",
        "+-------------+---------+\n",
        "name is the primary key (column with unique values) for this table.\n",
        "Each row of this table gives information about the name of a country, the continent to which it belongs, its area, the population, and its GDP value.\n",
        "\n",
        "\n",
        "A country is big if:\n",
        "\n",
        "it has an area of at least three million (i.e., 3000000 km2), or\n",
        "it has a population of at least twenty-five million (i.e., 25000000).\n",
        "Write a solution to find the name, population, and area of the big countries.\n",
        "\n",
        "Return the result table in any order."
      ],
      "metadata": {
        "id": "bwN3Z8Co-ZfS"
      },
      "execution_count": null,
      "outputs": []
    },
    {
      "cell_type": "code",
      "execution_count": null,
      "metadata": {
        "id": "bW7UWbr_fhG8"
      },
      "outputs": [],
      "source": [
        "# @title My answer\n",
        "import pandas as pd\n",
        "import numpy as np\n",
        "\n",
        "def big_countries(world: pd.DataFrame) -> pd.DataFrame:\n",
        "    result = world.copy()\n",
        "    result = result[\n",
        "        np.logical_or(\n",
        "            result['area'] >= 3000000,\n",
        "            result['population'] >= 25000000)\n",
        "            ]\n",
        "    result = result[['name', 'population', 'area']]\n",
        "    return result"
      ]
    },
    {
      "cell_type": "code",
      "source": [
        "# @title Example solution in comments\n",
        "\n",
        "import pandas as pd\n",
        "\n",
        "def big_countries(world: pd.DataFrame) -> pd.DataFrame:\n",
        "    return world[(world.area >= 3000000) | (world.population >= 25000000)][['name','population','area']]"
      ],
      "metadata": {
        "id": "VFwuyaA1jKhl"
      },
      "execution_count": null,
      "outputs": []
    },
    {
      "cell_type": "code",
      "source": [
        "# @title 1757. Recyclable and Low Fat Products\n",
        "\n",
        "Table: Products\n",
        "\n",
        "+-------------+---------+\n",
        "| Column Name | Type    |\n",
        "+-------------+---------+\n",
        "| product_id  | int     |\n",
        "| low_fats    | enum    |\n",
        "| recyclable  | enum    |\n",
        "+-------------+---------+\n",
        "product_id is the primary key (column with unique values) for this table.\n",
        "low_fats is an ENUM (category) of type ('Y', 'N') where 'Y' means this product is low fat and 'N' means it is not.\n",
        "recyclable is an ENUM (category) of types ('Y', 'N') where 'Y' means this product is recyclable and 'N' means it is not.\n",
        "\n",
        "\n",
        "Write a solution to find the ids of products that are both low fat and recyclable.\n",
        "\n",
        "Return the result table in any order.\n",
        "\n",
        "The result format is in the following example.\n",
        "\n",
        "\n",
        "\n",
        "Example 1:\n",
        "\n",
        "Input:\n",
        "Products table:\n",
        "+-------------+----------+------------+\n",
        "| product_id  | low_fats | recyclable |\n",
        "+-------------+----------+------------+\n",
        "| 0           | Y        | N          |\n",
        "| 1           | Y        | Y          |\n",
        "| 2           | N        | Y          |\n",
        "| 3           | Y        | Y          |\n",
        "| 4           | N        | N          |\n",
        "+-------------+----------+------------+\n",
        "Output:\n",
        "+-------------+\n",
        "| product_id  |\n",
        "+-------------+\n",
        "| 1           |\n",
        "| 3           |\n",
        "+-------------+\n",
        "Explanation: Only products 1 and 3 are both low fat and recyclable."
      ],
      "metadata": {
        "id": "UMmcfjfb-Ni9"
      },
      "execution_count": null,
      "outputs": []
    },
    {
      "cell_type": "code",
      "source": [
        "# @title My answer\n",
        "\n",
        "import pandas as pd\n",
        "\n",
        "def find_products(products: pd.DataFrame) s-> pd.DataFrame:\n",
        "    result = products[\n",
        "        (products['low_fats'] == 'Y') &\n",
        "        (products['recyclable'] == 'Y')]\n",
        "    return result[['product_id']]"
      ],
      "metadata": {
        "id": "9BDOW1cc1yKx"
      },
      "execution_count": null,
      "outputs": []
    },
    {
      "cell_type": "code",
      "source": [
        "# @title 183. Customers Who Never Order\n",
        "\n",
        "Table: Customers\n",
        "\n",
        "+-------------+---------+\n",
        "| Column Name | Type    |\n",
        "+-------------+---------+\n",
        "| id          | int     |\n",
        "| name        | varchar |\n",
        "+-------------+---------+\n",
        "id is the primary key (column with unique values) for this table.\n",
        "Each row of this table indicates the ID and name of a customer.\n",
        "\n",
        "\n",
        "Table: Orders\n",
        "\n",
        "+-------------+------+\n",
        "| Column Name | Type |\n",
        "+-------------+------+\n",
        "| id          | int  |\n",
        "| customerId  | int  |\n",
        "+-------------+------+\n",
        "id is the primary key (column with unique values) for this table.\n",
        "customerId is a foreign key (reference columns) of the ID from the Customers table.\n",
        "Each row of this table indicates the ID of an order and the ID of the customer who ordered it.\n",
        "\n",
        "\n",
        "Write a solution to find all customers who never order anything.\n",
        "\n",
        "Return the result table in any order.\n",
        "\n",
        "The result format is in the following example.\n",
        "\n",
        "\n",
        "\n",
        "Example 1:\n",
        "\n",
        "Input:\n",
        "Customers table:\n",
        "+----+-------+\n",
        "| id | name  |\n",
        "+----+-------+\n",
        "| 1  | Joe   |\n",
        "| 2  | Henry |\n",
        "| 3  | Sam   |\n",
        "| 4  | Max   |\n",
        "+----+-------+\n",
        "Orders table:\n",
        "+----+------------+\n",
        "| id | customerId |\n",
        "+----+------------+\n",
        "| 1  | 3          |\n",
        "| 2  | 1          |\n",
        "+----+------------+\n",
        "Output:\n",
        "+-----------+\n",
        "| Customers |\n",
        "+-----------+\n",
        "| Henry     |\n",
        "| Max       |\n",
        "+-----------+"
      ],
      "metadata": {
        "id": "uUt12Qu650KJ"
      },
      "execution_count": null,
      "outputs": []
    },
    {
      "cell_type": "code",
      "source": [
        "# @title My answer\n",
        "\n",
        "import pandas as pd\n",
        "\n",
        "def find_customers(customers: pd.DataFrame, orders: pd.DataFrame) -> pd.DataFrame:\n",
        "    # result = customers.merge(orders, on=['id'], how='left')\n",
        "    result = customers[\n",
        "        ~customers['id'].isin(orders['customerId'])]\n",
        "    result = result.rename(\n",
        "        columns={'name': 'Customers'})\n",
        "    return result[['Customers']]\n"
      ],
      "metadata": {
        "id": "jSWGoiyv5kct"
      },
      "execution_count": null,
      "outputs": []
    },
    {
      "cell_type": "code",
      "source": [
        "# Alternative solution\n",
        "\n",
        "import pandas as pd\n",
        "\n",
        "def find_customers(customers: pd.DataFrame, orders: pd.DataFrame) -> pd.DataFrame:\n",
        "    # Merge the customers DataFrame with the orders DataFrame using a left join on 'id' and 'customerId'\n",
        "    merged_df = customers.merge(orders, how='left', left_on='id', right_on='customerId')\n",
        "\n",
        "    # Use the 'customerId' column to create a boolean mask for customers who never placed any orders\n",
        "    mask = merged_df['customerId'].isna()\n",
        "\n",
        "    # Filter the rows using the boolean mask\n",
        "    result_df = merged_df[mask]\n",
        "\n",
        "    # Select only the 'name' column from the result DataFrame and rename it as 'Customers'\n",
        "    result_df = result_df[['name']].rename(columns={'name': 'Customers'})\n",
        "\n",
        "    return result_df"
      ],
      "metadata": {
        "id": "fFQVeODR6az4"
      },
      "execution_count": null,
      "outputs": []
    },
    {
      "cell_type": "code",
      "source": [
        "# @title 1148. Article Views I\n",
        "\n",
        "Table: Views\n",
        "\n",
        "+---------------+---------+\n",
        "| Column Name   | Type    |\n",
        "+---------------+---------+\n",
        "| article_id    | int     |\n",
        "| author_id     | int     |\n",
        "| viewer_id     | int     |\n",
        "| view_date     | date    |\n",
        "+---------------+---------+\n",
        "There is no primary key (column with unique values) for this table, the table may have duplicate rows.\n",
        "Each row of this table indicates that some viewer viewed an article (written by some author) on some date.\n",
        "Note that equal author_id and viewer_id indicate the same person.\n",
        "\n",
        "\n",
        "Write a solution to find all the authors that viewed at least one of their own articles.\n",
        "\n",
        "Return the result table sorted by id in ascending order.\n",
        "\n",
        "The result format is in the following example.\n",
        "\n",
        "\n",
        "\n",
        "Example 1:\n",
        "\n",
        "Input:\n",
        "Views table:\n",
        "+------------+-----------+-----------+------------+\n",
        "| article_id | author_id | viewer_id | view_date  |\n",
        "+------------+-----------+-----------+------------+\n",
        "| 1          | 3         | 5         | 2019-08-01 |\n",
        "| 1          | 3         | 6         | 2019-08-02 |\n",
        "| 2          | 7         | 7         | 2019-08-01 |\n",
        "| 2          | 7         | 6         | 2019-08-02 |\n",
        "| 4          | 7         | 1         | 2019-07-22 |\n",
        "| 3          | 4         | 4         | 2019-07-21 |\n",
        "| 3          | 4         | 4         | 2019-07-21 |\n",
        "+------------+-----------+-----------+------------+\n",
        "Output:\n",
        "+------+\n",
        "| id   |\n",
        "+------+\n",
        "| 4    |\n",
        "| 7    |\n",
        "+------+"
      ],
      "metadata": {
        "id": "estkDkw59yq9"
      },
      "execution_count": null,
      "outputs": []
    },
    {
      "cell_type": "code",
      "source": [
        "# @title My answer\n",
        "import pandas as pd\n",
        "\n",
        "def article_views(views: pd.DataFrame) -> pd.DataFrame:\n",
        "    result = views[\n",
        "        views['author_id'] == views['viewer_id']\n",
        "        ]\n",
        "    result = result[['viewer_id']].rename(\n",
        "        columns={'viewer_id': 'id'}).sort_values(\n",
        "            by=['id'], ascending=True).drop_duplicates()\n",
        "    return result"
      ],
      "metadata": {
        "id": "qpXeMZO19ydr"
      },
      "execution_count": null,
      "outputs": []
    },
    {
      "cell_type": "code",
      "source": [
        "# @title 1683. Invalid Tweets\n",
        "Table: Tweets\n",
        "\n",
        "+----------------+---------+\n",
        "| Column Name    | Type    |\n",
        "+----------------+---------+\n",
        "| tweet_id       | int     |\n",
        "| content        | varchar |\n",
        "+----------------+---------+\n",
        "tweet_id is the primary key (column with unique values) for this table.\n",
        "This table contains all the tweets in a social media app.\n",
        "\n",
        "\n",
        "Write a solution to find the IDs of the invalid tweets. The tweet is invalid if the number of characters used in the content of the tweet is strictly greater than 15.\n",
        "\n",
        "Return the result table in any order.\n",
        "\n",
        "The result format is in the following example.\n",
        "\n",
        "\n",
        "\n",
        "Example 1:\n",
        "\n",
        "Input:\n",
        "Tweets table:\n",
        "+----------+----------------------------------+\n",
        "| tweet_id | content                          |\n",
        "+----------+----------------------------------+\n",
        "| 1        | Vote for Biden                   |\n",
        "| 2        | Let us make America great again! |\n",
        "+----------+----------------------------------+\n",
        "Output:\n",
        "+----------+\n",
        "| tweet_id |\n",
        "+----------+\n",
        "| 2        |\n",
        "+----------+\n",
        "Explanation:\n",
        "Tweet 1 has length = 14. It is a valid tweet.\n",
        "Tweet 2 has length = 32. It is an invalid tweet."
      ],
      "metadata": {
        "id": "6mJgQppGCrW4"
      },
      "execution_count": null,
      "outputs": []
    },
    {
      "cell_type": "code",
      "source": [
        "# @title My answer\n",
        "import pandas as pd\n",
        "\n",
        "def invalid_tweets(tweets: pd.DataFrame) -> pd.DataFrame:\n",
        "    invalid = tweets[[len(x) > 15 for x in tweets['content']]]\n",
        "    return invalid[['tweet_id']]"
      ],
      "metadata": {
        "id": "1sgtQvD5Cro4"
      },
      "execution_count": null,
      "outputs": []
    },
    {
      "cell_type": "code",
      "source": [
        "# @title alternative answer\n",
        "import pandas as pd\n",
        "\n",
        "def invalid_tweets(tweets: pd.DataFrame) -> pd.DataFrame:\n",
        "    df=pd.DataFrame(tweets[tweets['content'].apply(len)>15]['tweet_id'])\n",
        "    return df"
      ],
      "metadata": {
        "id": "bNxESCCfC7SK"
      },
      "execution_count": null,
      "outputs": []
    },
    {
      "cell_type": "code",
      "source": [
        "# @title 1873. Calculate Special Bonus\n",
        "\n",
        "Table: Employees\n",
        "\n",
        "+-------------+---------+\n",
        "| Column Name | Type    |\n",
        "+-------------+---------+\n",
        "| employee_id | int     |\n",
        "| name        | varchar |\n",
        "| salary      | int     |\n",
        "+-------------+---------+\n",
        "employee_id is the primary key (column with unique values) for this table.\n",
        "Each row of this table indicates the employee ID, employee name, and salary.\n",
        "\n",
        "\n",
        "Write a solution to calculate the bonus of each employee. The bonus of an employee is 100% of their salary if the ID of the employee is an odd number and the employee's name does not start with the character 'M'. The bonus of an employee is 0 otherwise.\n",
        "\n",
        "Return the result table ordered by employee_id.\n",
        "\n",
        "The result format is in the following example.\n",
        "\n",
        "\n",
        "\n",
        "Example 1:\n",
        "\n",
        "Input:\n",
        "Employees table:\n",
        "+-------------+---------+--------+\n",
        "| employee_id | name    | salary |\n",
        "+-------------+---------+--------+\n",
        "| 2           | Meir    | 3000   |\n",
        "| 3           | Michael | 3800   |\n",
        "| 7           | Addilyn | 7400   |\n",
        "| 8           | Juan    | 6100   |\n",
        "| 9           | Kannon  | 7700   |\n",
        "+-------------+---------+--------+\n",
        "Output:\n",
        "+-------------+-------+\n",
        "| employee_id | bonus |\n",
        "+-------------+-------+\n",
        "| 2           | 0     |\n",
        "| 3           | 0     |\n",
        "| 7           | 7400  |\n",
        "| 8           | 0     |\n",
        "| 9           | 7700  |\n",
        "+-------------+-------+\n",
        "Explanation:\n",
        "The employees with IDs 2 and 8 get 0 bonus because they have an even employee_id.\n",
        "The employee with ID 3 gets 0 bonus because their name starts with 'M'.\n",
        "The rest of the employees get a 100% bonus."
      ],
      "metadata": {
        "id": "geb3szO5GVnN"
      },
      "execution_count": null,
      "outputs": []
    },
    {
      "cell_type": "code",
      "source": [
        "# @title My answer\n",
        "import pandas as pd\n",
        "\n",
        "def calculate_special_bonus(employees: pd.DataFrame) -> pd.DataFrame:\n",
        "    result = employees.copy()\n",
        "    result['bonus'] = 0\n",
        "    result['begins_w_M'] = [x[0] == 'M' for x in result['name']]\n",
        "    cond = (\n",
        "        (result['employee_id'] % 2 == 1) &\n",
        "        ~result['begins_w_M'])\n",
        "    result.loc[cond, ['bonus']] = result['salary']\n",
        "    return result[['employee_id', 'bonus']].sort_values(\n",
        "        by=['employee_id'], ascending=True)"
      ],
      "metadata": {
        "id": "jT0JTXt5GVgv"
      },
      "execution_count": null,
      "outputs": []
    },
    {
      "cell_type": "code",
      "source": [
        "# @title Altenative answer\n",
        "\n",
        "import pandas as pd\n",
        "\n",
        "def calculate_special_bonus(employees: pd.DataFrame) -> pd.DataFrame:\n",
        "\n",
        "    #Given condition is considered to create condition mask\n",
        "    condition = (employees['employee_id'] %2 != 1) | (employees['name'].str[0] == 'M')\n",
        "\n",
        "    #pandas.Dataframe's .loc(rows,columns) method is used to select specific cells and assign values\n",
        "    employees.loc[condition,'salary'] = 0\n",
        "\n",
        "    #In the final dataframe, the salary column has to be renamed to 'bonus' and has to be sorted by 'employee_id'\n",
        "\n",
        "    return employees[['employee_id','salary']].rename(columns = {'salary': 'bonus'}).sort_values(by = 'employee_id')"
      ],
      "metadata": {
        "id": "Mib-T0YFGVX4"
      },
      "execution_count": null,
      "outputs": []
    },
    {
      "cell_type": "code",
      "source": [
        "# @title 1667. Fix Names in a Table\n",
        "\n",
        "Table: Users\n",
        "\n",
        "+----------------+---------+\n",
        "| Column Name    | Type    |\n",
        "+----------------+---------+\n",
        "| user_id        | int     |\n",
        "| name           | varchar |\n",
        "+----------------+---------+\n",
        "user_id is the primary key (column with unique values) for this table.\n",
        "This table contains the ID and the name of the user. The name consists of only lowercase and uppercase characters.\n",
        "\n",
        "\n",
        "Write a solution to fix the names so that only the first character is uppercase and the rest are lowercase.\n",
        "\n",
        "Return the result table ordered by user_id.\n",
        "\n",
        "The result format is in the following example.\n",
        "\n",
        "\n",
        "\n",
        "Example 1:\n",
        "\n",
        "Input:\n",
        "Users table:\n",
        "+---------+-------+\n",
        "| user_id | name  |\n",
        "+---------+-------+\n",
        "| 1       | aLice |\n",
        "| 2       | bOB   |\n",
        "+---------+-------+\n",
        "Output:\n",
        "+---------+-------+\n",
        "| user_id | name  |\n",
        "+---------+-------+\n",
        "| 1       | Alice |\n",
        "| 2       | Bob   |\n",
        "+---------+-------+"
      ],
      "metadata": {
        "id": "6vClJm8y5zbG"
      },
      "execution_count": null,
      "outputs": []
    },
    {
      "cell_type": "code",
      "source": [
        "# @title My solution\n",
        "import pandas as pd\n",
        "\n",
        "def fix_names(users: pd.DataFrame) -> pd.DataFrame:\n",
        "    users['name'] = [\n",
        "        x[0].upper() + x[1:].lower() for x in users['name']]\n",
        "    return users.sort_values(by=['user_id'])"
      ],
      "metadata": {
        "id": "pvFkHLCl53OS"
      },
      "execution_count": null,
      "outputs": []
    },
    {
      "cell_type": "code",
      "source": [
        "# @title Alternative solution\n",
        "import pandas as pd\n",
        "\n",
        "def fix_names(users: pd.DataFrame) -> pd.DataFrame:\n",
        "    # Apply the str.capitalize() function to fix the names\n",
        "    users['name'] = users['name'].str.capitalize()\n",
        "\n",
        "    # Sort the result table by user_id in ascending order\n",
        "    result_df = users.sort_values(by='user_id', ascending=True)\n",
        "\n",
        "    return result_df"
      ],
      "metadata": {
        "id": "wa9zpMje7ZaX"
      },
      "execution_count": null,
      "outputs": []
    }
  ]
}